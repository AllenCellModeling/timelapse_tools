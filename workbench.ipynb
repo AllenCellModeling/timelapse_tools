{
 "cells": [
  {
   "cell_type": "code",
   "execution_count": 1,
   "metadata": {},
   "outputs": [],
   "source": [
    "from timelapse_tools import convert_to_mp4"
   ]
  },
  {
   "cell_type": "code",
   "execution_count": 2,
   "metadata": {},
   "outputs": [
    {
     "name": "stdout",
     "output_type": "stream",
     "text": [
      "[2019-12-14 00:21:17,467] INFO - prefect.FlowRunner | Beginning Flow run for 'czi_to_mp4_conversion'\n",
      "[2019-12-14 00:21:17,473] INFO - prefect.FlowRunner | Starting flow run.\n",
      "[2019-12-14 00:21:17,497] INFO - prefect.TaskRunner | Task 'List': Starting task run...\n",
      "[2019-12-14 00:21:17,506] INFO - prefect.TaskRunner | Task 'List': finished task run for task with final state: 'Success'\n",
      "[2019-12-14 00:21:17,524] INFO - prefect.TaskRunner | Task 'List': Starting task run...\n",
      "[2019-12-14 00:21:17,528] INFO - prefect.TaskRunner | Task 'List': finished task run for task with final state: 'Success'\n",
      "[2019-12-14 00:21:17,559] INFO - prefect.TaskRunner | Task 'List': Starting task run...\n",
      "[2019-12-14 00:21:17,567] INFO - prefect.TaskRunner | Task 'List': finished task run for task with final state: 'Success'\n",
      "[2019-12-14 00:21:17,592] INFO - prefect.TaskRunner | Task 'List': Starting task run...\n",
      "[2019-12-14 00:21:17,604] INFO - prefect.TaskRunner | Task 'List': finished task run for task with final state: 'Success'\n",
      "[2019-12-14 00:21:17,647] INFO - prefect.TaskRunner | Task '_img_prep': Starting task run...\n",
      "/Users/jacksonb/Desktop/active/cell/timelapse_tools/timelapse_tools/tests/data/s_1_t_5_c_1_z_1.czi\n",
      "[2019-12-14 00:21:17,802] INFO - prefect.TaskRunner | Task '_img_prep': finished task run for task with final state: 'Success'\n",
      "[2019-12-14 00:21:17,811] INFO - prefect.TaskRunner | Task 'GetItem': Starting task run...\n",
      "[2019-12-14 00:21:17,819] INFO - prefect.TaskRunner | Task 'GetItem': finished task run for task with final state: 'Success'\n",
      "[2019-12-14 00:21:17,833] INFO - prefect.TaskRunner | Task 'Dict': Starting task run...\n",
      "[2019-12-14 00:21:17,839] INFO - prefect.TaskRunner | Task 'Dict': finished task run for task with final state: 'Success'\n",
      "[2019-12-14 00:21:17,856] INFO - prefect.TaskRunner | Task 'Dict': Starting task run...\n",
      "[2019-12-14 00:21:17,859] INFO - prefect.TaskRunner | Task 'Dict': finished task run for task with final state: 'Success'\n",
      "[2019-12-14 00:21:17,876] INFO - prefect.TaskRunner | Task '_get_save_path': Starting task run...\n",
      "[2019-12-14 00:21:17,884] INFO - prefect.TaskRunner | Task '_get_save_path': finished task run for task with final state: 'Success'\n",
      "[2019-12-14 00:21:17,900] INFO - prefect.TaskRunner | Task 'GetItem': Starting task run...\n",
      "[2019-12-14 00:21:17,906] INFO - prefect.TaskRunner | Task 'GetItem': finished task run for task with final state: 'Success'\n",
      "[2019-12-14 00:21:17,922] INFO - prefect.TaskRunner | Task '_select_dimension': Starting task run...\n",
      "[2019-12-14 00:21:17,926] INFO - prefect.TaskRunner | Task '_select_dimension': finished task run for task with final state: 'Success'\n",
      "[2019-12-14 00:21:17,939] INFO - prefect.TaskRunner | Task 'GetItem': Starting task run...\n",
      "[2019-12-14 00:21:17,943] INFO - prefect.TaskRunner | Task 'GetItem': finished task run for task with final state: 'Success'\n",
      "[2019-12-14 00:21:17,958] INFO - prefect.TaskRunner | Task 'GetItem': Starting task run...\n",
      "[2019-12-14 00:21:17,968] INFO - prefect.TaskRunner | Task 'GetItem': finished task run for task with final state: 'Success'\n",
      "[2019-12-14 00:21:17,982] INFO - prefect.TaskRunner | Task '_select_dimension': Starting task run...\n",
      "[2019-12-14 00:21:17,991] INFO - prefect.TaskRunner | Task '_select_dimension': finished task run for task with final state: 'Success'\n",
      "[2019-12-14 00:21:18,000] INFO - prefect.TaskRunner | Task 'GetItem': Starting task run...\n",
      "[2019-12-14 00:21:18,012] INFO - prefect.TaskRunner | Task 'GetItem': finished task run for task with final state: 'Success'\n",
      "[2019-12-14 00:21:18,025] INFO - prefect.TaskRunner | Task '_get_image_shape': Starting task run...\n",
      "[2019-12-14 00:21:18,028] INFO - prefect.TaskRunner | Task '_get_image_shape': finished task run for task with final state: 'Success'\n",
      "[2019-12-14 00:21:18,044] INFO - prefect.TaskRunner | Task 'GetItem': Starting task run...\n",
      "[2019-12-14 00:21:18,049] INFO - prefect.TaskRunner | Task 'GetItem': finished task run for task with final state: 'Success'\n",
      "[2019-12-14 00:21:18,061] INFO - prefect.TaskRunner | Task 'GetItem': Starting task run...\n",
      "[2019-12-14 00:21:18,069] INFO - prefect.TaskRunner | Task 'GetItem': finished task run for task with final state: 'Success'\n",
      "[2019-12-14 00:21:18,077] INFO - prefect.TaskRunner | Task '_generate_getitem_indicies': Starting task run...\n",
      "[2019-12-14 00:21:18,082] INFO - prefect.TaskRunner | Task '_generate_getitem_indicies': finished task run for task with final state: 'Success'\n",
      "[2019-12-14 00:21:18,097] INFO - prefect.TaskRunner | Task '_generate_process_list': Starting task run...\n",
      "/Users/jacksonb/Desktop/active/cell/timelapse_tools/timelapse_tools/tests/data/s_1_t_5_c_1_z_1.czi\n",
      "[(0, slice(None, None, None), 0, slice(None, None, None), slice(None, None, None), slice(None, None, None))]\n",
      "[2019-12-14 00:21:18,099] ERROR - prefect.TaskRunner | Unexpected error: TypeError(\"'PosixPath' object is not subscriptable\")\n",
      "Traceback (most recent call last):\n",
      "  File \"/usr/local/anaconda3/envs/timelapse_tools/lib/python3.7/site-packages/prefect/engine/runner.py\", line 48, in inner\n",
      "    new_state = method(self, state, *args, **kwargs)\n",
      "  File \"/usr/local/anaconda3/envs/timelapse_tools/lib/python3.7/site-packages/prefect/engine/task_runner.py\", line 870, in get_task_run_state\n",
      "    self.task.run, timeout=self.task.timeout, **raw_inputs\n",
      "  File \"/usr/local/anaconda3/envs/timelapse_tools/lib/python3.7/site-packages/prefect/utilities/executors.py\", line 250, in timeout_handler\n",
      "    return fn(*args, **kwargs)\n",
      "  File \"/Users/jacksonb/Desktop/active/cell/timelapse_tools/timelapse_tools/conversion.py\", line 185, in _generate_process_list\n",
      "    return [img[getitem_selection] for getitem_selection in getitem_indicies]\n",
      "  File \"/Users/jacksonb/Desktop/active/cell/timelapse_tools/timelapse_tools/conversion.py\", line 185, in <listcomp>\n",
      "    return [img[getitem_selection] for getitem_selection in getitem_indicies]\n",
      "TypeError: 'PosixPath' object is not subscriptable\n",
      "[2019-12-14 00:21:18,110] INFO - prefect.TaskRunner | Task '_generate_process_list': finished task run for task with final state: 'Failed'\n",
      "[2019-12-14 00:21:18,118] INFO - prefect.TaskRunner | Task '_generate_movie': Starting task run...\n",
      "[2019-12-14 00:21:18,121] ERROR - prefect.TaskRunner | Task '_generate_movie': unexpected error while running task: TypeError(\"'TypeError' object is not subscriptable\")\n",
      "Traceback (most recent call last):\n",
      "  File \"/usr/local/anaconda3/envs/timelapse_tools/lib/python3.7/site-packages/prefect/engine/task_runner.py\", line 260, in run\n",
      "    executor=executor,\n",
      "  File \"/usr/local/anaconda3/envs/timelapse_tools/lib/python3.7/site-packages/prefect/engine/task_runner.py\", line 720, in run_mapped_task\n",
      "    upstream_state.result[i],\n",
      "TypeError: 'TypeError' object is not subscriptable\n",
      "[2019-12-14 00:21:18,131] INFO - prefect.TaskRunner | Task '_generate_movie': finished task run for task with final state: 'Failed'\n",
      "[2019-12-14 00:21:18,132] INFO - prefect.FlowRunner | Flow run FAILED: some reference tasks failed.\n"
     ]
    },
    {
     "ename": "TypeError",
     "evalue": "cannot unpack non-iterable PosixPath object",
     "output_type": "error",
     "traceback": [
      "\u001b[0;31m---------------------------------------------------------------------------\u001b[0m",
      "\u001b[0;31mTypeError\u001b[0m                                 Traceback (most recent call last)",
      "\u001b[0;32m<ipython-input-2-b429bbc830c4>\u001b[0m in \u001b[0;36m<module>\u001b[0;34m\u001b[0m\n\u001b[0;32m----> 1\u001b[0;31m \u001b[0mimg\u001b[0m\u001b[0;34m,\u001b[0m \u001b[0mdims\u001b[0m \u001b[0;34m=\u001b[0m \u001b[0mconvert_to_mp4\u001b[0m\u001b[0;34m(\u001b[0m\u001b[0;34m\"timelapse_tools/tests/data/s_1_t_5_c_1_z_1.czi\"\u001b[0m\u001b[0;34m)\u001b[0m\u001b[0;34m\u001b[0m\u001b[0;34m\u001b[0m\u001b[0m\n\u001b[0m\u001b[1;32m      2\u001b[0m \u001b[0mprint\u001b[0m\u001b[0;34m(\u001b[0m\u001b[0mdims\u001b[0m\u001b[0;34m)\u001b[0m\u001b[0;34m\u001b[0m\u001b[0;34m\u001b[0m\u001b[0m\n\u001b[1;32m      3\u001b[0m \u001b[0mimg\u001b[0m\u001b[0;34m\u001b[0m\u001b[0;34m\u001b[0m\u001b[0m\n",
      "\u001b[0;31mTypeError\u001b[0m: cannot unpack non-iterable PosixPath object"
     ]
    }
   ],
   "source": [
    "img, dims = convert_to_mp4(\"timelapse_tools/tests/data/s_1_t_5_c_1_z_1.czi\")\n",
    "print(dims)\n",
    "img"
   ]
  },
  {
   "cell_type": "code",
   "execution_count": null,
   "metadata": {},
   "outputs": [],
   "source": [
    "img, dims = convert_to_mp4(\"timelapse_tools/tests/data/s_1_t_5_c_1_z_1.czi\", S=0)\n",
    "print(dims)\n",
    "img"
   ]
  },
  {
   "cell_type": "code",
   "execution_count": null,
   "metadata": {},
   "outputs": [],
   "source": [
    "img, dims = convert_to_mp4(\"timelapse_tools/tests/data/s_1_t_5_c_1_z_1.czi\", C=0)\n",
    "print(dims)\n",
    "img"
   ]
  },
  {
   "cell_type": "code",
   "execution_count": null,
   "metadata": {},
   "outputs": [],
   "source": [
    "img, dims = convert_to_mp4(\"timelapse_tools/tests/data/s_None_t_5_c_1_z_None.czi\")\n",
    "print(dims)\n",
    "img"
   ]
  },
  {
   "cell_type": "code",
   "execution_count": null,
   "metadata": {},
   "outputs": [],
   "source": [
    "img, dims = convert_to_mp4(\"timelapse_tools/tests/data/s_None_t_5_c_1_z_None.czi\", S=0)\n",
    "print(dims)\n",
    "img"
   ]
  },
  {
   "cell_type": "code",
   "execution_count": null,
   "metadata": {},
   "outputs": [],
   "source": [
    "img, dims = convert_to_mp4(\"timelapse_tools/tests/data/s_None_t_5_c_1_z_None.czi\", S=0, C=0)\n",
    "print(dims)\n",
    "img"
   ]
  },
  {
   "cell_type": "code",
   "execution_count": null,
   "metadata": {},
   "outputs": [],
   "source": []
  }
 ],
 "metadata": {
  "kernelspec": {
   "display_name": "Python 3",
   "language": "python",
   "name": "python3"
  },
  "language_info": {
   "codemirror_mode": {
    "name": "ipython",
    "version": 3
   },
   "file_extension": ".py",
   "mimetype": "text/x-python",
   "name": "python",
   "nbconvert_exporter": "python",
   "pygments_lexer": "ipython3",
   "version": "3.7.5"
  }
 },
 "nbformat": 4,
 "nbformat_minor": 4
}
