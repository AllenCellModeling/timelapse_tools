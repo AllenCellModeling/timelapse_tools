{
 "cells": [
  {
   "cell_type": "code",
   "execution_count": 1,
   "metadata": {},
   "outputs": [],
   "source": [
    "from timelapse_tools import convert_to_mp4"
   ]
  },
  {
   "cell_type": "code",
   "execution_count": 2,
   "metadata": {},
   "outputs": [
    {
     "name": "stdout",
     "output_type": "stream",
     "text": [
      "[2019-12-14 01:43:08,411] INFO - prefect.FlowRunner | Beginning Flow run for 'czi_to_mp4_conversion'\n",
      "[2019-12-14 01:43:08,413] INFO - prefect.FlowRunner | Starting flow run.\n",
      "[2019-12-14 01:43:08,421] INFO - prefect.TaskRunner | Task 'List': Starting task run...\n",
      "[2019-12-14 01:43:08,426] INFO - prefect.TaskRunner | Task 'List': finished task run for task with final state: 'Success'\n",
      "[2019-12-14 01:43:08,435] INFO - prefect.TaskRunner | Task 'List': Starting task run...\n",
      "[2019-12-14 01:43:08,441] INFO - prefect.TaskRunner | Task 'List': finished task run for task with final state: 'Success'\n",
      "[2019-12-14 01:43:08,450] INFO - prefect.TaskRunner | Task 'List': Starting task run...\n",
      "[2019-12-14 01:43:08,454] INFO - prefect.TaskRunner | Task 'List': finished task run for task with final state: 'Success'\n",
      "[2019-12-14 01:43:08,470] INFO - prefect.TaskRunner | Task '_get_save_path': Starting task run...\n",
      "[2019-12-14 01:43:08,476] INFO - prefect.TaskRunner | Task '_get_save_path': finished task run for task with final state: 'Success'\n",
      "[2019-12-14 01:43:08,489] INFO - prefect.TaskRunner | Task '_img_prep': Starting task run...\n",
      "/Users/jacksonb/Desktop/active/cell/timelapse_tools/timelapse_tools/tests/data/s_1_t_5_c_1_z_1.czi\n",
      "[2019-12-14 01:43:08,632] INFO - prefect.TaskRunner | Task '_img_prep': finished task run for task with final state: 'Success'\n",
      "[2019-12-14 01:43:08,638] INFO - prefect.TaskRunner | Task 'List': Starting task run...\n",
      "[2019-12-14 01:43:08,644] INFO - prefect.TaskRunner | Task 'List': finished task run for task with final state: 'Success'\n",
      "[2019-12-14 01:43:08,649] INFO - prefect.TaskRunner | Task 'Dict': Starting task run...\n",
      "[2019-12-14 01:43:08,652] INFO - prefect.TaskRunner | Task 'Dict': finished task run for task with final state: 'Success'\n",
      "[2019-12-14 01:43:08,663] INFO - prefect.TaskRunner | Task 'GetItem': Starting task run...\n",
      "[2019-12-14 01:43:08,667] INFO - prefect.TaskRunner | Task 'GetItem': finished task run for task with final state: 'Success'\n",
      "[2019-12-14 01:43:08,676] INFO - prefect.TaskRunner | Task 'GetItem': Starting task run...\n",
      "[2019-12-14 01:43:08,681] INFO - prefect.TaskRunner | Task 'GetItem': finished task run for task with final state: 'Success'\n",
      "[2019-12-14 01:43:08,689] INFO - prefect.TaskRunner | Task 'Dict': Starting task run...\n",
      "[2019-12-14 01:43:08,702] INFO - prefect.TaskRunner | Task 'Dict': finished task run for task with final state: 'Success'\n",
      "[2019-12-14 01:43:08,711] INFO - prefect.TaskRunner | Task '_select_dimension': Starting task run...\n",
      "[2019-12-14 01:43:08,714] INFO - prefect.TaskRunner | Task '_select_dimension': finished task run for task with final state: 'Success'\n",
      "[2019-12-14 01:43:08,723] INFO - prefect.TaskRunner | Task 'GetItem': Starting task run...\n",
      "[2019-12-14 01:43:08,726] INFO - prefect.TaskRunner | Task 'GetItem': finished task run for task with final state: 'Success'\n",
      "[2019-12-14 01:43:08,734] INFO - prefect.TaskRunner | Task 'GetItem': Starting task run...\n",
      "[2019-12-14 01:43:08,736] INFO - prefect.TaskRunner | Task 'GetItem': finished task run for task with final state: 'Success'\n",
      "[2019-12-14 01:43:08,747] INFO - prefect.TaskRunner | Task '_select_dimension': Starting task run...\n",
      "[2019-12-14 01:43:08,750] INFO - prefect.TaskRunner | Task '_select_dimension': finished task run for task with final state: 'Success'\n",
      "[2019-12-14 01:43:08,762] INFO - prefect.TaskRunner | Task 'GetItem': Starting task run...\n",
      "[2019-12-14 01:43:08,766] INFO - prefect.TaskRunner | Task 'GetItem': finished task run for task with final state: 'Success'\n",
      "[2019-12-14 01:43:08,779] INFO - prefect.TaskRunner | Task 'GetItem': Starting task run...\n",
      "[2019-12-14 01:43:08,784] INFO - prefect.TaskRunner | Task 'GetItem': finished task run for task with final state: 'Success'\n",
      "[2019-12-14 01:43:08,793] INFO - prefect.TaskRunner | Task '_get_image_shape': Starting task run...\n",
      "[2019-12-14 01:43:08,798] INFO - prefect.TaskRunner | Task '_get_image_shape': finished task run for task with final state: 'Success'\n",
      "[2019-12-14 01:43:08,815] INFO - prefect.TaskRunner | Task 'GetItem': Starting task run...\n",
      "[2019-12-14 01:43:08,821] INFO - prefect.TaskRunner | Task 'GetItem': finished task run for task with final state: 'Success'\n",
      "[2019-12-14 01:43:08,832] INFO - prefect.TaskRunner | Task 'GetItem': Starting task run...\n",
      "[2019-12-14 01:43:08,836] INFO - prefect.TaskRunner | Task 'GetItem': finished task run for task with final state: 'Success'\n",
      "[2019-12-14 01:43:08,859] INFO - prefect.TaskRunner | Task '_generate_getitem_indicies': Starting task run...\n",
      "[2019-12-14 01:43:08,879] INFO - prefect.TaskRunner | Task '_generate_getitem_indicies': finished task run for task with final state: 'Success'\n",
      "[2019-12-14 01:43:08,908] INFO - prefect.TaskRunner | Task '_generate_process_list': Starting task run...\n",
      "[2019-12-14 01:43:08,914] INFO - prefect.TaskRunner | Task '_generate_process_list': finished task run for task with final state: 'Success'\n",
      "[2019-12-14 01:43:08,935] INFO - prefect.TaskRunner | Task '_generate_movie': Starting task run...\n",
      "[2019-12-14 01:43:08,951] INFO - prefect.TaskRunner | Task '_generate_movie[0]': Starting task run...\n",
      "[2019-12-14 01:43:08,956] INFO - prefect.TaskRunner | Task '_generate_movie[0]': finished task run for task with final state: 'Success'\n",
      "[2019-12-14 01:43:08,963] INFO - prefect.TaskRunner | Task '_generate_movie': finished task run for task with final state: 'Mapped'\n",
      "[2019-12-14 01:43:08,966] INFO - prefect.FlowRunner | Flow run SUCCESS: all reference tasks succeeded\n"
     ]
    },
    {
     "data": {
      "text/plain": [
       "PosixPath('/Users/jacksonb/Desktop/active/cell/timelapse_tools/s_1_t_5_c_1_z_1')"
      ]
     },
     "execution_count": 2,
     "metadata": {},
     "output_type": "execute_result"
    }
   ],
   "source": [
    "convert_to_mp4(\"timelapse_tools/tests/data/s_1_t_5_c_1_z_1.czi\")"
   ]
  },
  {
   "cell_type": "code",
   "execution_count": 3,
   "metadata": {},
   "outputs": [
    {
     "name": "stdout",
     "output_type": "stream",
     "text": [
      "[2019-12-14 01:43:09,009] INFO - prefect.FlowRunner | Beginning Flow run for 'czi_to_mp4_conversion'\n",
      "[2019-12-14 01:43:09,012] INFO - prefect.FlowRunner | Starting flow run.\n",
      "[2019-12-14 01:43:09,027] INFO - prefect.TaskRunner | Task '_img_prep': Starting task run...\n",
      "/Users/jacksonb/Desktop/active/cell/timelapse_tools/timelapse_tools/tests/data/s_1_t_5_c_1_z_1.czi\n",
      "[2019-12-14 01:43:09,149] INFO - prefect.TaskRunner | Task '_img_prep': finished task run for task with final state: 'Success'\n",
      "[2019-12-14 01:43:09,158] INFO - prefect.TaskRunner | Task 'List': Starting task run...\n",
      "[2019-12-14 01:43:09,162] INFO - prefect.TaskRunner | Task 'List': finished task run for task with final state: 'Success'\n",
      "[2019-12-14 01:43:09,167] INFO - prefect.TaskRunner | Task 'List': Starting task run...\n",
      "[2019-12-14 01:43:09,171] INFO - prefect.TaskRunner | Task 'List': finished task run for task with final state: 'Success'\n",
      "[2019-12-14 01:43:09,182] INFO - prefect.TaskRunner | Task 'List': Starting task run...\n",
      "[2019-12-14 01:43:09,186] INFO - prefect.TaskRunner | Task 'List': finished task run for task with final state: 'Success'\n",
      "[2019-12-14 01:43:09,195] INFO - prefect.TaskRunner | Task 'Dict': Starting task run...\n",
      "[2019-12-14 01:43:09,205] INFO - prefect.TaskRunner | Task 'Dict': finished task run for task with final state: 'Success'\n",
      "[2019-12-14 01:43:09,220] INFO - prefect.TaskRunner | Task '_get_save_path': Starting task run...\n",
      "[2019-12-14 01:43:09,223] INFO - prefect.TaskRunner | Task '_get_save_path': finished task run for task with final state: 'Success'\n",
      "[2019-12-14 01:43:09,236] INFO - prefect.TaskRunner | Task 'List': Starting task run...\n",
      "[2019-12-14 01:43:09,238] INFO - prefect.TaskRunner | Task 'List': finished task run for task with final state: 'Success'\n",
      "[2019-12-14 01:43:09,254] INFO - prefect.TaskRunner | Task 'Dict': Starting task run...\n",
      "[2019-12-14 01:43:09,263] INFO - prefect.TaskRunner | Task 'Dict': finished task run for task with final state: 'Success'\n",
      "[2019-12-14 01:43:09,276] INFO - prefect.TaskRunner | Task 'GetItem': Starting task run...\n",
      "[2019-12-14 01:43:09,284] INFO - prefect.TaskRunner | Task 'GetItem': finished task run for task with final state: 'Success'\n",
      "[2019-12-14 01:43:09,289] INFO - prefect.TaskRunner | Task 'GetItem': Starting task run...\n",
      "[2019-12-14 01:43:09,300] INFO - prefect.TaskRunner | Task 'GetItem': finished task run for task with final state: 'Success'\n",
      "[2019-12-14 01:43:09,309] INFO - prefect.TaskRunner | Task '_select_dimension': Starting task run...\n",
      "[2019-12-14 01:43:09,319] INFO - prefect.TaskRunner | Task '_select_dimension': finished task run for task with final state: 'Success'\n",
      "[2019-12-14 01:43:09,337] INFO - prefect.TaskRunner | Task 'GetItem': Starting task run...\n",
      "[2019-12-14 01:43:09,344] INFO - prefect.TaskRunner | Task 'GetItem': finished task run for task with final state: 'Success'\n",
      "[2019-12-14 01:43:09,352] INFO - prefect.TaskRunner | Task 'GetItem': Starting task run...\n",
      "[2019-12-14 01:43:09,355] INFO - prefect.TaskRunner | Task 'GetItem': finished task run for task with final state: 'Success'\n",
      "[2019-12-14 01:43:09,368] INFO - prefect.TaskRunner | Task '_select_dimension': Starting task run...\n",
      "[2019-12-14 01:43:09,371] INFO - prefect.TaskRunner | Task '_select_dimension': finished task run for task with final state: 'Success'\n",
      "[2019-12-14 01:43:09,383] INFO - prefect.TaskRunner | Task 'GetItem': Starting task run...\n",
      "[2019-12-14 01:43:09,386] INFO - prefect.TaskRunner | Task 'GetItem': finished task run for task with final state: 'Success'\n",
      "[2019-12-14 01:43:09,395] INFO - prefect.TaskRunner | Task 'GetItem': Starting task run...\n",
      "[2019-12-14 01:43:09,403] INFO - prefect.TaskRunner | Task 'GetItem': finished task run for task with final state: 'Success'\n",
      "[2019-12-14 01:43:09,416] INFO - prefect.TaskRunner | Task 'GetItem': Starting task run...\n",
      "[2019-12-14 01:43:09,421] INFO - prefect.TaskRunner | Task 'GetItem': finished task run for task with final state: 'Success'\n",
      "[2019-12-14 01:43:09,431] INFO - prefect.TaskRunner | Task '_get_image_shape': Starting task run...\n",
      "[2019-12-14 01:43:09,436] INFO - prefect.TaskRunner | Task '_get_image_shape': finished task run for task with final state: 'Success'\n",
      "[2019-12-14 01:43:09,446] INFO - prefect.TaskRunner | Task '_generate_getitem_indicies': Starting task run...\n",
      "[2019-12-14 01:43:09,453] INFO - prefect.TaskRunner | Task '_generate_getitem_indicies': finished task run for task with final state: 'Success'\n",
      "[2019-12-14 01:43:09,459] INFO - prefect.TaskRunner | Task 'GetItem': Starting task run...\n",
      "[2019-12-14 01:43:09,468] INFO - prefect.TaskRunner | Task 'GetItem': finished task run for task with final state: 'Success'\n",
      "[2019-12-14 01:43:09,476] INFO - prefect.TaskRunner | Task '_generate_process_list': Starting task run...\n",
      "[2019-12-14 01:43:09,488] INFO - prefect.TaskRunner | Task '_generate_process_list': finished task run for task with final state: 'Success'\n",
      "[2019-12-14 01:43:09,503] INFO - prefect.TaskRunner | Task '_generate_movie': Starting task run...\n",
      "[2019-12-14 01:43:09,517] INFO - prefect.TaskRunner | Task '_generate_movie[0]': Starting task run...\n",
      "[2019-12-14 01:43:09,520] INFO - prefect.TaskRunner | Task '_generate_movie[0]': finished task run for task with final state: 'Success'\n",
      "[2019-12-14 01:43:09,523] INFO - prefect.TaskRunner | Task '_generate_movie': finished task run for task with final state: 'Mapped'\n",
      "[2019-12-14 01:43:09,526] INFO - prefect.FlowRunner | Flow run SUCCESS: all reference tasks succeeded\n"
     ]
    },
    {
     "data": {
      "text/plain": [
       "PosixPath('/Users/jacksonb/Desktop/active/cell/timelapse_tools/s_1_t_5_c_1_z_1')"
      ]
     },
     "execution_count": 3,
     "metadata": {},
     "output_type": "execute_result"
    }
   ],
   "source": [
    "convert_to_mp4(\"timelapse_tools/tests/data/s_1_t_5_c_1_z_1.czi\", S=0)"
   ]
  },
  {
   "cell_type": "code",
   "execution_count": 4,
   "metadata": {},
   "outputs": [
    {
     "name": "stdout",
     "output_type": "stream",
     "text": [
      "[2019-12-14 01:43:09,546] INFO - prefect.FlowRunner | Beginning Flow run for 'czi_to_mp4_conversion'\n",
      "[2019-12-14 01:43:09,548] INFO - prefect.FlowRunner | Starting flow run.\n",
      "[2019-12-14 01:43:09,564] INFO - prefect.TaskRunner | Task 'List': Starting task run...\n",
      "[2019-12-14 01:43:09,573] INFO - prefect.TaskRunner | Task 'List': finished task run for task with final state: 'Success'\n",
      "[2019-12-14 01:43:09,588] INFO - prefect.TaskRunner | Task 'List': Starting task run...\n",
      "[2019-12-14 01:43:09,592] INFO - prefect.TaskRunner | Task 'List': finished task run for task with final state: 'Success'\n",
      "[2019-12-14 01:43:09,602] INFO - prefect.TaskRunner | Task '_get_save_path': Starting task run...\n",
      "[2019-12-14 01:43:09,605] INFO - prefect.TaskRunner | Task '_get_save_path': finished task run for task with final state: 'Success'\n",
      "[2019-12-14 01:43:09,614] INFO - prefect.TaskRunner | Task 'List': Starting task run...\n",
      "[2019-12-14 01:43:09,617] INFO - prefect.TaskRunner | Task 'List': finished task run for task with final state: 'Success'\n",
      "[2019-12-14 01:43:09,623] INFO - prefect.TaskRunner | Task 'Dict': Starting task run...\n",
      "[2019-12-14 01:43:09,628] INFO - prefect.TaskRunner | Task 'Dict': finished task run for task with final state: 'Success'\n",
      "[2019-12-14 01:43:09,637] INFO - prefect.TaskRunner | Task '_img_prep': Starting task run...\n",
      "/Users/jacksonb/Desktop/active/cell/timelapse_tools/timelapse_tools/tests/data/s_1_t_5_c_1_z_1.czi\n",
      "[2019-12-14 01:43:09,775] INFO - prefect.TaskRunner | Task '_img_prep': finished task run for task with final state: 'Success'\n",
      "[2019-12-14 01:43:09,782] INFO - prefect.TaskRunner | Task 'List': Starting task run...\n",
      "[2019-12-14 01:43:09,785] INFO - prefect.TaskRunner | Task 'List': finished task run for task with final state: 'Success'\n",
      "[2019-12-14 01:43:09,797] INFO - prefect.TaskRunner | Task 'Dict': Starting task run...\n",
      "[2019-12-14 01:43:09,800] INFO - prefect.TaskRunner | Task 'Dict': finished task run for task with final state: 'Success'\n",
      "[2019-12-14 01:43:09,812] INFO - prefect.TaskRunner | Task 'GetItem': Starting task run...\n",
      "[2019-12-14 01:43:09,817] INFO - prefect.TaskRunner | Task 'GetItem': finished task run for task with final state: 'Success'\n",
      "[2019-12-14 01:43:09,827] INFO - prefect.TaskRunner | Task 'GetItem': Starting task run...\n",
      "[2019-12-14 01:43:09,836] INFO - prefect.TaskRunner | Task 'GetItem': finished task run for task with final state: 'Success'\n",
      "[2019-12-14 01:43:09,845] INFO - prefect.TaskRunner | Task '_select_dimension': Starting task run...\n",
      "[2019-12-14 01:43:09,850] INFO - prefect.TaskRunner | Task '_select_dimension': finished task run for task with final state: 'Success'\n",
      "[2019-12-14 01:43:09,860] INFO - prefect.TaskRunner | Task 'GetItem': Starting task run...\n",
      "[2019-12-14 01:43:09,868] INFO - prefect.TaskRunner | Task 'GetItem': finished task run for task with final state: 'Success'\n",
      "[2019-12-14 01:43:09,878] INFO - prefect.TaskRunner | Task 'GetItem': Starting task run...\n",
      "[2019-12-14 01:43:09,886] INFO - prefect.TaskRunner | Task 'GetItem': finished task run for task with final state: 'Success'\n",
      "[2019-12-14 01:43:09,897] INFO - prefect.TaskRunner | Task '_select_dimension': Starting task run...\n",
      "[2019-12-14 01:43:09,904] INFO - prefect.TaskRunner | Task '_select_dimension': finished task run for task with final state: 'Success'\n",
      "[2019-12-14 01:43:09,914] INFO - prefect.TaskRunner | Task 'GetItem': Starting task run...\n",
      "[2019-12-14 01:43:09,918] INFO - prefect.TaskRunner | Task 'GetItem': finished task run for task with final state: 'Success'\n",
      "[2019-12-14 01:43:09,929] INFO - prefect.TaskRunner | Task 'GetItem': Starting task run...\n",
      "[2019-12-14 01:43:09,933] INFO - prefect.TaskRunner | Task 'GetItem': finished task run for task with final state: 'Success'\n",
      "[2019-12-14 01:43:09,940] INFO - prefect.TaskRunner | Task '_get_image_shape': Starting task run...\n",
      "[2019-12-14 01:43:09,949] INFO - prefect.TaskRunner | Task '_get_image_shape': finished task run for task with final state: 'Success'\n",
      "[2019-12-14 01:43:09,956] INFO - prefect.TaskRunner | Task 'GetItem': Starting task run...\n",
      "[2019-12-14 01:43:09,976] INFO - prefect.TaskRunner | Task 'GetItem': finished task run for task with final state: 'Success'\n",
      "[2019-12-14 01:43:09,990] INFO - prefect.TaskRunner | Task 'GetItem': Starting task run...\n",
      "[2019-12-14 01:43:10,003] INFO - prefect.TaskRunner | Task 'GetItem': finished task run for task with final state: 'Success'\n",
      "[2019-12-14 01:43:10,011] INFO - prefect.TaskRunner | Task '_generate_getitem_indicies': Starting task run...\n",
      "[2019-12-14 01:43:10,021] INFO - prefect.TaskRunner | Task '_generate_getitem_indicies': finished task run for task with final state: 'Success'\n",
      "[2019-12-14 01:43:10,031] INFO - prefect.TaskRunner | Task '_generate_process_list': Starting task run...\n",
      "[2019-12-14 01:43:10,035] INFO - prefect.TaskRunner | Task '_generate_process_list': finished task run for task with final state: 'Success'\n",
      "[2019-12-14 01:43:10,046] INFO - prefect.TaskRunner | Task '_generate_movie': Starting task run...\n",
      "[2019-12-14 01:43:10,053] INFO - prefect.TaskRunner | Task '_generate_movie[0]': Starting task run...\n",
      "[2019-12-14 01:43:10,056] INFO - prefect.TaskRunner | Task '_generate_movie[0]': finished task run for task with final state: 'Success'\n",
      "[2019-12-14 01:43:10,067] INFO - prefect.TaskRunner | Task '_generate_movie': finished task run for task with final state: 'Mapped'\n",
      "[2019-12-14 01:43:10,070] INFO - prefect.FlowRunner | Flow run SUCCESS: all reference tasks succeeded\n"
     ]
    },
    {
     "data": {
      "text/plain": [
       "PosixPath('/Users/jacksonb/Desktop/active/cell/timelapse_tools/s_1_t_5_c_1_z_1')"
      ]
     },
     "execution_count": 4,
     "metadata": {},
     "output_type": "execute_result"
    }
   ],
   "source": [
    "convert_to_mp4(\"timelapse_tools/tests/data/s_1_t_5_c_1_z_1.czi\", C=0)"
   ]
  },
  {
   "cell_type": "code",
   "execution_count": 5,
   "metadata": {},
   "outputs": [
    {
     "name": "stdout",
     "output_type": "stream",
     "text": [
      "[2019-12-14 01:43:10,092] INFO - prefect.FlowRunner | Beginning Flow run for 'czi_to_mp4_conversion'\n",
      "[2019-12-14 01:43:10,094] INFO - prefect.FlowRunner | Starting flow run.\n",
      "[2019-12-14 01:43:10,104] INFO - prefect.TaskRunner | Task '_img_prep': Starting task run...\n",
      "/Users/jacksonb/Desktop/active/cell/timelapse_tools/timelapse_tools/tests/data/s_None_t_5_c_1_z_None.czi\n",
      "[2019-12-14 01:43:10,672] INFO - prefect.TaskRunner | Task '_img_prep': finished task run for task with final state: 'Success'\n",
      "[2019-12-14 01:43:10,684] INFO - prefect.TaskRunner | Task 'List': Starting task run...\n",
      "[2019-12-14 01:43:10,689] INFO - prefect.TaskRunner | Task 'List': finished task run for task with final state: 'Success'\n",
      "[2019-12-14 01:43:10,722] INFO - prefect.TaskRunner | Task 'List': Starting task run...\n",
      "[2019-12-14 01:43:10,727] INFO - prefect.TaskRunner | Task 'List': finished task run for task with final state: 'Success'\n",
      "[2019-12-14 01:43:10,736] INFO - prefect.TaskRunner | Task 'List': Starting task run...\n",
      "[2019-12-14 01:43:10,742] INFO - prefect.TaskRunner | Task 'List': finished task run for task with final state: 'Success'\n",
      "[2019-12-14 01:43:10,769] INFO - prefect.TaskRunner | Task '_get_save_path': Starting task run...\n",
      "[2019-12-14 01:43:10,777] INFO - prefect.TaskRunner | Task '_get_save_path': finished task run for task with final state: 'Success'\n",
      "[2019-12-14 01:43:10,793] INFO - prefect.TaskRunner | Task 'GetItem': Starting task run...\n",
      "[2019-12-14 01:43:10,799] INFO - prefect.TaskRunner | Task 'GetItem': finished task run for task with final state: 'Success'\n",
      "[2019-12-14 01:43:10,805] INFO - prefect.TaskRunner | Task 'List': Starting task run...\n",
      "[2019-12-14 01:43:10,808] INFO - prefect.TaskRunner | Task 'List': finished task run for task with final state: 'Success'\n",
      "[2019-12-14 01:43:10,817] INFO - prefect.TaskRunner | Task 'GetItem': Starting task run...\n",
      "[2019-12-14 01:43:10,820] INFO - prefect.TaskRunner | Task 'GetItem': finished task run for task with final state: 'Success'\n",
      "[2019-12-14 01:43:10,826] INFO - prefect.TaskRunner | Task 'Dict': Starting task run...\n",
      "[2019-12-14 01:43:10,831] INFO - prefect.TaskRunner | Task 'Dict': finished task run for task with final state: 'Success'\n",
      "[2019-12-14 01:43:10,839] INFO - prefect.TaskRunner | Task '_select_dimension': Starting task run...\n",
      "[2019-12-14 01:43:10,842] INFO - prefect.TaskRunner | Task '_select_dimension': finished task run for task with final state: 'Success'\n",
      "[2019-12-14 01:43:10,855] INFO - prefect.TaskRunner | Task 'GetItem': Starting task run...\n",
      "[2019-12-14 01:43:10,859] INFO - prefect.TaskRunner | Task 'GetItem': finished task run for task with final state: 'Success'\n",
      "[2019-12-14 01:43:10,869] INFO - prefect.TaskRunner | Task 'Dict': Starting task run...\n",
      "[2019-12-14 01:43:10,872] INFO - prefect.TaskRunner | Task 'Dict': finished task run for task with final state: 'Success'\n",
      "[2019-12-14 01:43:10,882] INFO - prefect.TaskRunner | Task 'GetItem': Starting task run...\n",
      "[2019-12-14 01:43:10,885] INFO - prefect.TaskRunner | Task 'GetItem': finished task run for task with final state: 'Success'\n",
      "[2019-12-14 01:43:10,895] INFO - prefect.TaskRunner | Task '_select_dimension': Starting task run...\n",
      "[2019-12-14 01:43:10,899] INFO - prefect.TaskRunner | Task '_select_dimension': finished task run for task with final state: 'Success'\n",
      "[2019-12-14 01:43:10,906] INFO - prefect.TaskRunner | Task 'GetItem': Starting task run...\n",
      "[2019-12-14 01:43:10,919] INFO - prefect.TaskRunner | Task 'GetItem': finished task run for task with final state: 'Success'\n",
      "[2019-12-14 01:43:10,930] INFO - prefect.TaskRunner | Task '_get_image_shape': Starting task run...\n",
      "[2019-12-14 01:43:10,938] INFO - prefect.TaskRunner | Task '_get_image_shape': finished task run for task with final state: 'Success'\n",
      "[2019-12-14 01:43:10,949] INFO - prefect.TaskRunner | Task 'GetItem': Starting task run...\n",
      "[2019-12-14 01:43:10,952] INFO - prefect.TaskRunner | Task 'GetItem': finished task run for task with final state: 'Success'\n",
      "[2019-12-14 01:43:10,962] INFO - prefect.TaskRunner | Task 'GetItem': Starting task run...\n",
      "[2019-12-14 01:43:10,968] INFO - prefect.TaskRunner | Task 'GetItem': finished task run for task with final state: 'Success'\n",
      "[2019-12-14 01:43:10,982] INFO - prefect.TaskRunner | Task 'GetItem': Starting task run...\n",
      "[2019-12-14 01:43:10,986] INFO - prefect.TaskRunner | Task 'GetItem': finished task run for task with final state: 'Success'\n",
      "[2019-12-14 01:43:11,001] INFO - prefect.TaskRunner | Task '_generate_getitem_indicies': Starting task run...\n",
      "[2019-12-14 01:43:11,010] INFO - prefect.TaskRunner | Task '_generate_getitem_indicies': finished task run for task with final state: 'Success'\n",
      "[2019-12-14 01:43:11,029] INFO - prefect.TaskRunner | Task '_generate_process_list': Starting task run...\n",
      "[2019-12-14 01:43:11,036] INFO - prefect.TaskRunner | Task '_generate_process_list': finished task run for task with final state: 'Success'\n",
      "[2019-12-14 01:43:11,063] INFO - prefect.TaskRunner | Task '_generate_movie': Starting task run...\n",
      "[2019-12-14 01:43:11,084] INFO - prefect.TaskRunner | Task '_generate_movie[0]': Starting task run...\n",
      "[2019-12-14 01:43:11,087] INFO - prefect.TaskRunner | Task '_generate_movie[0]': finished task run for task with final state: 'Success'\n",
      "[2019-12-14 01:43:11,090] INFO - prefect.TaskRunner | Task '_generate_movie': finished task run for task with final state: 'Mapped'\n",
      "[2019-12-14 01:43:11,105] INFO - prefect.FlowRunner | Flow run SUCCESS: all reference tasks succeeded\n"
     ]
    },
    {
     "data": {
      "text/plain": [
       "PosixPath('/Users/jacksonb/Desktop/active/cell/timelapse_tools/s_None_t_5_c_1_z_None')"
      ]
     },
     "execution_count": 5,
     "metadata": {},
     "output_type": "execute_result"
    }
   ],
   "source": [
    "convert_to_mp4(\"timelapse_tools/tests/data/s_None_t_5_c_1_z_None.czi\")"
   ]
  },
  {
   "cell_type": "code",
   "execution_count": 6,
   "metadata": {},
   "outputs": [
    {
     "name": "stdout",
     "output_type": "stream",
     "text": [
      "[2019-12-14 01:43:11,204] INFO - prefect.FlowRunner | Beginning Flow run for 'czi_to_mp4_conversion'\n",
      "[2019-12-14 01:43:11,212] INFO - prefect.FlowRunner | Starting flow run.\n",
      "[2019-12-14 01:43:11,273] INFO - prefect.TaskRunner | Task 'List': Starting task run...\n",
      "[2019-12-14 01:43:11,313] INFO - prefect.TaskRunner | Task 'List': finished task run for task with final state: 'Success'\n",
      "[2019-12-14 01:43:11,352] INFO - prefect.TaskRunner | Task '_img_prep': Starting task run...\n",
      "/Users/jacksonb/Desktop/active/cell/timelapse_tools/timelapse_tools/tests/data/s_None_t_5_c_1_z_None.czi\n",
      "[2019-12-14 01:43:12,013] INFO - prefect.TaskRunner | Task '_img_prep': finished task run for task with final state: 'Success'\n",
      "[2019-12-14 01:43:12,022] INFO - prefect.TaskRunner | Task 'List': Starting task run...\n",
      "[2019-12-14 01:43:12,027] INFO - prefect.TaskRunner | Task 'List': finished task run for task with final state: 'Success'\n",
      "[2019-12-14 01:43:12,036] INFO - prefect.TaskRunner | Task 'List': Starting task run...\n",
      "[2019-12-14 01:43:12,039] INFO - prefect.TaskRunner | Task 'List': finished task run for task with final state: 'Success'\n",
      "[2019-12-14 01:43:12,052] INFO - prefect.TaskRunner | Task 'List': Starting task run...\n",
      "[2019-12-14 01:43:12,055] INFO - prefect.TaskRunner | Task 'List': finished task run for task with final state: 'Success'\n",
      "[2019-12-14 01:43:12,069] INFO - prefect.TaskRunner | Task 'Dict': Starting task run...\n",
      "[2019-12-14 01:43:12,072] INFO - prefect.TaskRunner | Task 'Dict': finished task run for task with final state: 'Success'\n",
      "[2019-12-14 01:43:12,089] INFO - prefect.TaskRunner | Task '_get_save_path': Starting task run...\n",
      "[2019-12-14 01:43:12,097] INFO - prefect.TaskRunner | Task '_get_save_path': finished task run for task with final state: 'Success'\n",
      "[2019-12-14 01:43:12,105] INFO - prefect.TaskRunner | Task 'GetItem': Starting task run...\n",
      "[2019-12-14 01:43:12,114] INFO - prefect.TaskRunner | Task 'GetItem': finished task run for task with final state: 'Success'\n",
      "[2019-12-14 01:43:12,128] INFO - prefect.TaskRunner | Task 'GetItem': Starting task run...\n",
      "[2019-12-14 01:43:12,131] INFO - prefect.TaskRunner | Task 'GetItem': finished task run for task with final state: 'Success'\n",
      "[2019-12-14 01:43:12,146] INFO - prefect.TaskRunner | Task '_select_dimension': Starting task run...\n"
     ]
    },
    {
     "name": "stderr",
     "output_type": "stream",
     "text": [
      "Ignoring the specified S dimension(s) (0) as it was not found in the file.\n"
     ]
    },
    {
     "name": "stdout",
     "output_type": "stream",
     "text": [
      "[2019-12-14 01:43:12,151] INFO - prefect.TaskRunner | Task '_select_dimension': finished task run for task with final state: 'Success'\n",
      "[2019-12-14 01:43:12,163] INFO - prefect.TaskRunner | Task 'GetItem': Starting task run...\n",
      "[2019-12-14 01:43:12,167] INFO - prefect.TaskRunner | Task 'GetItem': finished task run for task with final state: 'Success'\n",
      "[2019-12-14 01:43:12,180] INFO - prefect.TaskRunner | Task 'GetItem': Starting task run...\n",
      "[2019-12-14 01:43:12,187] INFO - prefect.TaskRunner | Task 'GetItem': finished task run for task with final state: 'Success'\n",
      "[2019-12-14 01:43:12,201] INFO - prefect.TaskRunner | Task 'Dict': Starting task run...\n",
      "[2019-12-14 01:43:12,204] INFO - prefect.TaskRunner | Task 'Dict': finished task run for task with final state: 'Success'\n",
      "[2019-12-14 01:43:12,220] INFO - prefect.TaskRunner | Task '_select_dimension': Starting task run...\n",
      "[2019-12-14 01:43:12,223] INFO - prefect.TaskRunner | Task '_select_dimension': finished task run for task with final state: 'Success'\n",
      "[2019-12-14 01:43:12,233] INFO - prefect.TaskRunner | Task 'GetItem': Starting task run...\n",
      "[2019-12-14 01:43:12,237] INFO - prefect.TaskRunner | Task 'GetItem': finished task run for task with final state: 'Success'\n",
      "[2019-12-14 01:43:12,246] INFO - prefect.TaskRunner | Task '_get_image_shape': Starting task run...\n",
      "[2019-12-14 01:43:12,249] INFO - prefect.TaskRunner | Task '_get_image_shape': finished task run for task with final state: 'Success'\n",
      "[2019-12-14 01:43:12,256] INFO - prefect.TaskRunner | Task 'GetItem': Starting task run...\n",
      "[2019-12-14 01:43:12,264] INFO - prefect.TaskRunner | Task 'GetItem': finished task run for task with final state: 'Success'\n",
      "[2019-12-14 01:43:12,271] INFO - prefect.TaskRunner | Task '_generate_getitem_indicies': Starting task run...\n",
      "[2019-12-14 01:43:12,274] INFO - prefect.TaskRunner | Task '_generate_getitem_indicies': finished task run for task with final state: 'Success'\n",
      "[2019-12-14 01:43:12,286] INFO - prefect.TaskRunner | Task 'GetItem': Starting task run...\n",
      "[2019-12-14 01:43:12,289] INFO - prefect.TaskRunner | Task 'GetItem': finished task run for task with final state: 'Success'\n",
      "[2019-12-14 01:43:12,302] INFO - prefect.TaskRunner | Task 'GetItem': Starting task run...\n",
      "[2019-12-14 01:43:12,305] INFO - prefect.TaskRunner | Task 'GetItem': finished task run for task with final state: 'Success'\n",
      "[2019-12-14 01:43:12,315] INFO - prefect.TaskRunner | Task '_generate_process_list': Starting task run...\n",
      "[2019-12-14 01:43:12,321] INFO - prefect.TaskRunner | Task '_generate_process_list': finished task run for task with final state: 'Success'\n",
      "[2019-12-14 01:43:12,331] INFO - prefect.TaskRunner | Task '_generate_movie': Starting task run...\n",
      "[2019-12-14 01:43:12,339] INFO - prefect.TaskRunner | Task '_generate_movie[0]': Starting task run...\n",
      "[2019-12-14 01:43:12,344] INFO - prefect.TaskRunner | Task '_generate_movie[0]': finished task run for task with final state: 'Success'\n",
      "[2019-12-14 01:43:12,351] INFO - prefect.TaskRunner | Task '_generate_movie': finished task run for task with final state: 'Mapped'\n",
      "[2019-12-14 01:43:12,353] INFO - prefect.FlowRunner | Flow run SUCCESS: all reference tasks succeeded\n"
     ]
    },
    {
     "data": {
      "text/plain": [
       "PosixPath('/Users/jacksonb/Desktop/active/cell/timelapse_tools/s_None_t_5_c_1_z_None')"
      ]
     },
     "execution_count": 6,
     "metadata": {},
     "output_type": "execute_result"
    }
   ],
   "source": [
    "convert_to_mp4(\"timelapse_tools/tests/data/s_None_t_5_c_1_z_None.czi\", S=0)"
   ]
  },
  {
   "cell_type": "code",
   "execution_count": 7,
   "metadata": {},
   "outputs": [
    {
     "name": "stdout",
     "output_type": "stream",
     "text": [
      "[2019-12-14 01:43:12,382] INFO - prefect.FlowRunner | Beginning Flow run for 'czi_to_mp4_conversion'\n",
      "[2019-12-14 01:43:12,384] INFO - prefect.FlowRunner | Starting flow run.\n",
      "[2019-12-14 01:43:12,399] INFO - prefect.TaskRunner | Task 'List': Starting task run...\n",
      "[2019-12-14 01:43:12,404] INFO - prefect.TaskRunner | Task 'List': finished task run for task with final state: 'Success'\n",
      "[2019-12-14 01:43:12,413] INFO - prefect.TaskRunner | Task 'List': Starting task run...\n",
      "[2019-12-14 01:43:12,417] INFO - prefect.TaskRunner | Task 'List': finished task run for task with final state: 'Success'\n",
      "[2019-12-14 01:43:12,427] INFO - prefect.TaskRunner | Task '_get_save_path': Starting task run...\n",
      "[2019-12-14 01:43:12,431] INFO - prefect.TaskRunner | Task '_get_save_path': finished task run for task with final state: 'Success'\n",
      "[2019-12-14 01:43:12,437] INFO - prefect.TaskRunner | Task 'Dict': Starting task run...\n",
      "[2019-12-14 01:43:12,440] INFO - prefect.TaskRunner | Task 'Dict': finished task run for task with final state: 'Success'\n",
      "[2019-12-14 01:43:12,450] INFO - prefect.TaskRunner | Task '_img_prep': Starting task run...\n",
      "/Users/jacksonb/Desktop/active/cell/timelapse_tools/timelapse_tools/tests/data/s_None_t_5_c_1_z_None.czi\n",
      "[2019-12-14 01:43:12,916] INFO - prefect.TaskRunner | Task '_img_prep': finished task run for task with final state: 'Success'\n",
      "[2019-12-14 01:43:12,922] INFO - prefect.TaskRunner | Task 'List': Starting task run...\n",
      "[2019-12-14 01:43:12,926] INFO - prefect.TaskRunner | Task 'List': finished task run for task with final state: 'Success'\n",
      "[2019-12-14 01:43:12,933] INFO - prefect.TaskRunner | Task 'List': Starting task run...\n",
      "[2019-12-14 01:43:12,935] INFO - prefect.TaskRunner | Task 'List': finished task run for task with final state: 'Success'\n",
      "[2019-12-14 01:43:12,943] INFO - prefect.TaskRunner | Task 'Dict': Starting task run...\n",
      "[2019-12-14 01:43:12,947] INFO - prefect.TaskRunner | Task 'Dict': finished task run for task with final state: 'Success'\n",
      "[2019-12-14 01:43:12,956] INFO - prefect.TaskRunner | Task 'GetItem': Starting task run...\n",
      "[2019-12-14 01:43:12,960] INFO - prefect.TaskRunner | Task 'GetItem': finished task run for task with final state: 'Success'\n",
      "[2019-12-14 01:43:12,971] INFO - prefect.TaskRunner | Task 'GetItem': Starting task run...\n",
      "[2019-12-14 01:43:12,974] INFO - prefect.TaskRunner | Task 'GetItem': finished task run for task with final state: 'Success'\n",
      "[2019-12-14 01:43:12,985] INFO - prefect.TaskRunner | Task '_select_dimension': Starting task run...\n"
     ]
    },
    {
     "name": "stderr",
     "output_type": "stream",
     "text": [
      "Ignoring the specified S dimension(s) (0) as it was not found in the file.\n"
     ]
    },
    {
     "name": "stdout",
     "output_type": "stream",
     "text": [
      "[2019-12-14 01:43:12,989] INFO - prefect.TaskRunner | Task '_select_dimension': finished task run for task with final state: 'Success'\n",
      "[2019-12-14 01:43:12,999] INFO - prefect.TaskRunner | Task 'GetItem': Starting task run...\n",
      "[2019-12-14 01:43:13,003] INFO - prefect.TaskRunner | Task 'GetItem': finished task run for task with final state: 'Success'\n",
      "[2019-12-14 01:43:13,012] INFO - prefect.TaskRunner | Task 'GetItem': Starting task run...\n",
      "[2019-12-14 01:43:13,015] INFO - prefect.TaskRunner | Task 'GetItem': finished task run for task with final state: 'Success'\n",
      "[2019-12-14 01:43:13,029] INFO - prefect.TaskRunner | Task '_select_dimension': Starting task run...\n",
      "[2019-12-14 01:43:13,033] INFO - prefect.TaskRunner | Task '_select_dimension': finished task run for task with final state: 'Success'\n",
      "[2019-12-14 01:43:13,044] INFO - prefect.TaskRunner | Task 'GetItem': Starting task run...\n",
      "[2019-12-14 01:43:13,049] INFO - prefect.TaskRunner | Task 'GetItem': finished task run for task with final state: 'Success'\n",
      "[2019-12-14 01:43:13,056] INFO - prefect.TaskRunner | Task 'GetItem': Starting task run...\n",
      "[2019-12-14 01:43:13,062] INFO - prefect.TaskRunner | Task 'GetItem': finished task run for task with final state: 'Success'\n",
      "[2019-12-14 01:43:13,070] INFO - prefect.TaskRunner | Task '_get_image_shape': Starting task run...\n",
      "[2019-12-14 01:43:13,072] INFO - prefect.TaskRunner | Task '_get_image_shape': finished task run for task with final state: 'Success'\n",
      "[2019-12-14 01:43:13,081] INFO - prefect.TaskRunner | Task 'GetItem': Starting task run...\n",
      "[2019-12-14 01:43:13,085] INFO - prefect.TaskRunner | Task 'GetItem': finished task run for task with final state: 'Success'\n",
      "[2019-12-14 01:43:13,096] INFO - prefect.TaskRunner | Task 'GetItem': Starting task run...\n",
      "[2019-12-14 01:43:13,099] INFO - prefect.TaskRunner | Task 'GetItem': finished task run for task with final state: 'Success'\n",
      "[2019-12-14 01:43:13,105] INFO - prefect.TaskRunner | Task '_generate_getitem_indicies': Starting task run...\n",
      "[2019-12-14 01:43:13,113] INFO - prefect.TaskRunner | Task '_generate_getitem_indicies': finished task run for task with final state: 'Success'\n",
      "[2019-12-14 01:43:13,121] INFO - prefect.TaskRunner | Task '_generate_process_list': Starting task run...\n",
      "[2019-12-14 01:43:13,126] INFO - prefect.TaskRunner | Task '_generate_process_list': finished task run for task with final state: 'Success'\n",
      "[2019-12-14 01:43:13,133] INFO - prefect.TaskRunner | Task '_generate_movie': Starting task run...\n",
      "[2019-12-14 01:43:13,139] INFO - prefect.TaskRunner | Task '_generate_movie[0]': Starting task run...\n",
      "[2019-12-14 01:43:13,143] INFO - prefect.TaskRunner | Task '_generate_movie[0]': finished task run for task with final state: 'Success'\n",
      "[2019-12-14 01:43:13,147] INFO - prefect.TaskRunner | Task '_generate_movie': finished task run for task with final state: 'Mapped'\n",
      "[2019-12-14 01:43:13,150] INFO - prefect.FlowRunner | Flow run SUCCESS: all reference tasks succeeded\n"
     ]
    },
    {
     "data": {
      "text/plain": [
       "PosixPath('/Users/jacksonb/Desktop/active/cell/timelapse_tools/s_None_t_5_c_1_z_None')"
      ]
     },
     "execution_count": 7,
     "metadata": {},
     "output_type": "execute_result"
    }
   ],
   "source": [
    "convert_to_mp4(\"timelapse_tools/tests/data/s_None_t_5_c_1_z_None.czi\", S=0, C=0)"
   ]
  },
  {
   "cell_type": "code",
   "execution_count": null,
   "metadata": {},
   "outputs": [],
   "source": []
  }
 ],
 "metadata": {
  "kernelspec": {
   "display_name": "Python 3",
   "language": "python",
   "name": "python3"
  },
  "language_info": {
   "codemirror_mode": {
    "name": "ipython",
    "version": 3
   },
   "file_extension": ".py",
   "mimetype": "text/x-python",
   "name": "python",
   "nbconvert_exporter": "python",
   "pygments_lexer": "ipython3",
   "version": "3.7.5"
  }
 },
 "nbformat": 4,
 "nbformat_minor": 4
}
