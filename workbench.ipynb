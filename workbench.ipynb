{
 "cells": [
  {
   "cell_type": "code",
   "execution_count": 1,
   "metadata": {},
   "outputs": [],
   "source": [
    "from timelapse_tools import compute\n",
    "from timelapse_tools.computation.min_max_intensity_finder import MinMaxIntensityFinder"
   ]
  },
  {
   "cell_type": "code",
   "execution_count": 2,
   "metadata": {},
   "outputs": [],
   "source": [
    "# Initialize prior to passing in\n",
    "# This is how you can parametrize your computation manager\n",
    "computation_manager = MinMaxIntensityFinder()"
   ]
  },
  {
   "cell_type": "code",
   "execution_count": 3,
   "metadata": {},
   "outputs": [
    {
     "name": "stderr",
     "output_type": "stream",
     "text": [
      "  0%|          | 0/5 [00:00<?, ?it/s]All 'S' dimension data will be read on each iteration. This may increase time and memory.\n",
      "All 'C' dimension data will be read on each iteration. This may increase time and memory.\n",
      "All 'Z' dimension data will be read on each iteration. This may increase time and memory.\n",
      " 20%|██        | 1/5 [00:00<00:00,  6.46it/s]"
     ]
    },
    {
     "name": "stdout",
     "output_type": "stream",
     "text": [
      "/Users/jacksonb/Desktop/active/cell/timelapse_access/timelapse_tools/tests/data/s_1_t_5_c_1_z_1.czi\n"
     ]
    },
    {
     "name": "stderr",
     "output_type": "stream",
     "text": [
      "100%|██████████| 5/5 [00:00<00:00,  7.15it/s]\n"
     ]
    },
    {
     "data": {
      "text/plain": [
       "(347, 1894)"
      ]
     },
     "execution_count": 3,
     "metadata": {},
     "output_type": "execute_result"
    }
   ],
   "source": [
    "results = compute(\"timelapse_tools/tests/data/s_1_t_5_c_1_z_1.czi\", computation_manager, show_progress=True)\n",
    "(results.min_intensity, results.max_intensity)"
   ]
  },
  {
   "cell_type": "code",
   "execution_count": 4,
   "metadata": {},
   "outputs": [
    {
     "name": "stderr",
     "output_type": "stream",
     "text": [
      "  0%|          | 0/1 [00:00<?, ?it/s]All 'S' dimension data will be read on each iteration. This may increase time and memory.\n",
      "All 'C' dimension data will be read on each iteration. This may increase time and memory.\n",
      "100%|██████████| 1/1 [00:00<00:00,  5.91it/s]"
     ]
    },
    {
     "name": "stdout",
     "output_type": "stream",
     "text": [
      "/Users/jacksonb/Desktop/active/cell/timelapse_access/timelapse_tools/tests/data/s_1_t_5_c_1_z_1.czi\n"
     ]
    },
    {
     "name": "stderr",
     "output_type": "stream",
     "text": [
      "\n"
     ]
    },
    {
     "data": {
      "text/plain": [
       "(347, 1894)"
      ]
     },
     "execution_count": 4,
     "metadata": {},
     "output_type": "execute_result"
    }
   ],
   "source": [
    "# Don't worry, even though this produces the same min and max\n",
    "# The size of T is 1 for the data cube that reaches computation_manager.process_data function\n",
    "results = compute(\"timelapse_tools/tests/data/s_1_t_5_c_1_z_1.czi\", computation_manager, operating_dimension=\"Z\", T=0, show_progress=True)\n",
    "(results.min_intensity, results.max_intensity)"
   ]
  }
 ],
 "metadata": {
  "kernelspec": {
   "display_name": "Python 3",
   "language": "python",
   "name": "python3"
  },
  "language_info": {
   "codemirror_mode": {
    "name": "ipython",
    "version": 3
   },
   "file_extension": ".py",
   "mimetype": "text/x-python",
   "name": "python",
   "nbconvert_exporter": "python",
   "pygments_lexer": "ipython3",
   "version": "3.7.5"
  }
 },
 "nbformat": 4,
 "nbformat_minor": 4
}
