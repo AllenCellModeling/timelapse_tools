{
 "cells": [
  {
   "cell_type": "code",
   "execution_count": null,
   "metadata": {},
   "outputs": [],
   "source": [
    "import pandas as pd\n",
    "\n",
    "image_list = pd.read_csv(\"data/raw_image_list.csv\")\n",
    "image_list.head()"
   ]
  },
  {
   "cell_type": "code",
   "execution_count": null,
   "metadata": {},
   "outputs": [],
   "source": [
    "from pathlib import Path\n",
    "import shutil\n",
    "\n",
    "remote = (Path(\"/allen\") / image_list.loc[1][\"Isilon path\"][1:] / image_list.loc[1][\"File Name\"]).resolve(strict=True)\n",
    "print(f\"Remote filepath: {remote}, Size in GB: {remote.stat().st_size / 1000 / 1000 / 1000}\")\n",
    "\n",
    "# local = Path(f\"/tmp/{czi.name}\")\n",
    "# print(f\"Beginning copy to: {local}\")\n",
    "# shutil.copy(str(czi), str(local))\n",
    "# local.resolve(strict=True)\n",
    "# print(f\"Copy complete, located at: {local}\")"
   ]
  },
  {
   "cell_type": "code",
   "execution_count": null,
   "metadata": {},
   "outputs": [],
   "source": [
    "from timelapse_tools.movies import generate_movie\n",
    "\n",
    "generate_movie(remote, \"/Users/jacksonb/Desktop/test.mp4\", overwrite=True, series_range=slice(0, 100, 4), show_progress=True, C=0, fps=4)"
   ]
  }
 ],
 "metadata": {
  "kernelspec": {
   "display_name": "Python 3",
   "language": "python",
   "name": "python3"
  },
  "language_info": {
   "codemirror_mode": {
    "name": "ipython",
    "version": 3
   },
   "file_extension": ".py",
   "mimetype": "text/x-python",
   "name": "python",
   "nbconvert_exporter": "python",
   "pygments_lexer": "ipython3",
   "version": "3.7.5"
  }
 },
 "nbformat": 4,
 "nbformat_minor": 4
}
